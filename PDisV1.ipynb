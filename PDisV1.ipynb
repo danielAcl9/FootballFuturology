{
 "cells": [
  {
   "cell_type": "markdown",
   "metadata": {},
   "source": [
    "## Proceso gráfica de distribución de Poisson"
   ]
  },
  {
   "cell_type": "code",
   "execution_count": 46,
   "metadata": {},
   "outputs": [],
   "source": [
    "import numpy as np\n",
    "import pandas as pd\n",
    "from scipy.stats import poisson"
   ]
  },
  {
   "cell_type": "code",
   "execution_count": 47,
   "metadata": {},
   "outputs": [],
   "source": [
    "\n",
    "def calcular_probabilidades(tasa, max_goles):\n",
    "    probabilidades = [poisson.pmf(i, tasa) for i in range(max_goles + 1)]\n",
    "    return probabilidades\n",
    "\n",
    "def crear_tabla_probabilidades(tasa_local, tasa_visitante, max_goles):\n",
    "    tabla_probabilidades = np.zeros((max_goles + 1, max_goles + 1))\n",
    "\n",
    "    for i in range(max_goles + 1):\n",
    "        for j in range(max_goles + 1):\n",
    "            prob_local = poisson.pmf(i, tasa_local)\n",
    "            prob_visitante = poisson.pmf(j, tasa_visitante)\n",
    "            prob_conjunta = prob_local * prob_visitante\n",
    "            tabla_probabilidades[i, j] = prob_conjunta * 100  # Convertir a porcentaje\n",
    "\n",
    "    return tabla_probabilidades\n",
    "\n",
    "def crear_dataframe_probabilidades(tasa_local, tasa_visitante, max_goles):\n",
    "    tabla_probabilidades = crear_tabla_probabilidades(tasa_local, tasa_visitante, max_goles)\n",
    "    indices = [f\"GL_{i}\" for i in range(max_goles + 1)]\n",
    "    columnas = [f\"GV_{j}\" for j in range(max_goles + 1)]\n",
    "\n",
    "    dataframe_probabilidades = pd.DataFrame(tabla_probabilidades, index=indices, columns=columnas)\n",
    "    return dataframe_probabilidades"
   ]
  },
  {
   "cell_type": "code",
   "execution_count": 48,
   "metadata": {},
   "outputs": [
    {
     "data": {
      "text/html": [
       "<div>\n",
       "<style scoped>\n",
       "    .dataframe tbody tr th:only-of-type {\n",
       "        vertical-align: middle;\n",
       "    }\n",
       "\n",
       "    .dataframe tbody tr th {\n",
       "        vertical-align: top;\n",
       "    }\n",
       "\n",
       "    .dataframe thead th {\n",
       "        text-align: right;\n",
       "    }\n",
       "</style>\n",
       "<table border=\"1\" class=\"dataframe\">\n",
       "  <thead>\n",
       "    <tr style=\"text-align: right;\">\n",
       "      <th></th>\n",
       "      <th>GV_0</th>\n",
       "      <th>GV_1</th>\n",
       "      <th>GV_2</th>\n",
       "      <th>GV_3</th>\n",
       "      <th>GV_4</th>\n",
       "      <th>GV_5</th>\n",
       "      <th>GV_6</th>\n",
       "    </tr>\n",
       "  </thead>\n",
       "  <tbody>\n",
       "    <tr>\n",
       "      <th>GL_0</th>\n",
       "      <td>6.007391</td>\n",
       "      <td>7.075086</td>\n",
       "      <td>4.166271</td>\n",
       "      <td>1.635581</td>\n",
       "      <td>0.481568</td>\n",
       "      <td>0.113432</td>\n",
       "      <td>0.022265</td>\n",
       "    </tr>\n",
       "    <tr>\n",
       "      <th>GL_1</th>\n",
       "      <td>9.818777</td>\n",
       "      <td>11.563870</td>\n",
       "      <td>6.809560</td>\n",
       "      <td>2.673275</td>\n",
       "      <td>0.787099</td>\n",
       "      <td>0.185398</td>\n",
       "      <td>0.036391</td>\n",
       "    </tr>\n",
       "    <tr>\n",
       "      <th>GL_2</th>\n",
       "      <td>8.024147</td>\n",
       "      <td>9.450280</td>\n",
       "      <td>5.564940</td>\n",
       "      <td>2.184666</td>\n",
       "      <td>0.643237</td>\n",
       "      <td>0.151512</td>\n",
       "      <td>0.029740</td>\n",
       "    </tr>\n",
       "    <tr>\n",
       "      <th>GL_3</th>\n",
       "      <td>4.371687</td>\n",
       "      <td>5.148668</td>\n",
       "      <td>3.031871</td>\n",
       "      <td>1.190242</td>\n",
       "      <td>0.350446</td>\n",
       "      <td>0.082546</td>\n",
       "      <td>0.016203</td>\n",
       "    </tr>\n",
       "    <tr>\n",
       "      <th>GL_4</th>\n",
       "      <td>1.786325</td>\n",
       "      <td>2.103809</td>\n",
       "      <td>1.238860</td>\n",
       "      <td>0.486348</td>\n",
       "      <td>0.143197</td>\n",
       "      <td>0.033729</td>\n",
       "      <td>0.006621</td>\n",
       "    </tr>\n",
       "    <tr>\n",
       "      <th>GL_5</th>\n",
       "      <td>0.583932</td>\n",
       "      <td>0.687714</td>\n",
       "      <td>0.404971</td>\n",
       "      <td>0.158982</td>\n",
       "      <td>0.046810</td>\n",
       "      <td>0.011026</td>\n",
       "      <td>0.002164</td>\n",
       "    </tr>\n",
       "    <tr>\n",
       "      <th>GL_6</th>\n",
       "      <td>0.159068</td>\n",
       "      <td>0.187339</td>\n",
       "      <td>0.110317</td>\n",
       "      <td>0.043308</td>\n",
       "      <td>0.012751</td>\n",
       "      <td>0.003004</td>\n",
       "      <td>0.000590</td>\n",
       "    </tr>\n",
       "  </tbody>\n",
       "</table>\n",
       "</div>"
      ],
      "text/plain": [
       "          GV_0       GV_1      GV_2      GV_3      GV_4      GV_5      GV_6\n",
       "GL_0  6.007391   7.075086  4.166271  1.635581  0.481568  0.113432  0.022265\n",
       "GL_1  9.818777  11.563870  6.809560  2.673275  0.787099  0.185398  0.036391\n",
       "GL_2  8.024147   9.450280  5.564940  2.184666  0.643237  0.151512  0.029740\n",
       "GL_3  4.371687   5.148668  3.031871  1.190242  0.350446  0.082546  0.016203\n",
       "GL_4  1.786325   2.103809  1.238860  0.486348  0.143197  0.033729  0.006621\n",
       "GL_5  0.583932   0.687714  0.404971  0.158982  0.046810  0.011026  0.002164\n",
       "GL_6  0.159068   0.187339  0.110317  0.043308  0.012751  0.003004  0.000590"
      ]
     },
     "execution_count": 48,
     "metadata": {},
     "output_type": "execute_result"
    }
   ],
   "source": [
    "# Ejemplo: tasas de anotación promedio por partido\n",
    "tasa_local = \n",
    "tasa_visitante = 1.177730193\n",
    "max_goles = 6\n",
    "\n",
    "dataframe_probabilidades = crear_dataframe_probabilidades(tasa_local, tasa_visitante, max_goles)\n",
    "dataframe_probabilidades"
   ]
  },
  {
   "cell_type": "code",
   "execution_count": 49,
   "metadata": {},
   "outputs": [
    {
     "name": "stdout",
     "output_type": "stream",
     "text": [
      "Mitad superior (Visitante): 27.49\n",
      "Mitad inferior (Local): 47.86\n",
      "Diagonal principal (Empate): 24.48\n"
     ]
    }
   ],
   "source": [
    "# Sumar la mitad superior de la tabla (por encima de la diagonal principal)\n",
    "suma_mitad_superior = dataframe_probabilidades.where(np.triu(np.ones(dataframe_probabilidades.shape), k=1).astype(bool)).sum().sum()\n",
    "    \n",
    "# Sumar la mitad inferior de la tabla (por debajo de la diagonal principal)\n",
    "suma_mitad_inferior = dataframe_probabilidades.where(np.tril(np.ones(dataframe_probabilidades.shape), k=-1).astype(bool)).sum().sum()\n",
    "\n",
    "# Sumar la diagonal principal\n",
    "suma_diagonal_principal = dataframe_probabilidades.values.diagonal().sum()\n",
    "\n",
    "print(f\"Mitad superior (Visitante): {suma_mitad_superior:.2f}\")\n",
    "print(f\"Mitad inferior (Local): {suma_mitad_inferior:.2f}\")\n",
    "print(f\"Diagonal principal (Empate): {suma_diagonal_principal:.2f}\")"
   ]
  }
 ],
 "metadata": {
  "kernelspec": {
   "display_name": "Python 3",
   "language": "python",
   "name": "python3"
  },
  "language_info": {
   "codemirror_mode": {
    "name": "ipython",
    "version": 3
   },
   "file_extension": ".py",
   "mimetype": "text/x-python",
   "name": "python",
   "nbconvert_exporter": "python",
   "pygments_lexer": "ipython3",
   "version": "3.11.8"
  }
 },
 "nbformat": 4,
 "nbformat_minor": 2
}
